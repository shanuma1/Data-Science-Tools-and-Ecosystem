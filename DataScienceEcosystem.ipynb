{
  "metadata": {
    "kernelspec": {
      "name": "python",
      "display_name": "Python (Pyodide)",
      "language": "python"
    },
    "language_info": {
      "codemirror_mode": {
        "name": "python",
        "version": 3
      },
      "file_extension": ".py",
      "mimetype": "text/x-python",
      "name": "python",
      "nbconvert_exporter": "python",
      "pygments_lexer": "ipython3",
      "version": "3.8"
    }
  },
  "nbformat_minor": 4,
  "nbformat": 4,
  "cells": [
    {
      "cell_type": "markdown",
      "source": "# Data Science Tools and Ecosystem\n",
      "metadata": {}
    },
    {
      "cell_type": "markdown",
      "source": "## Introduction\nThis notebook provides an overview of Data Science tools, libraries, languages, and arithmetic operations.\n",
      "metadata": {}
    },
    {
      "cell_type": "markdown",
      "source": "## Data Science Languages\n- Python\n- R\n- SQL\n- Julia\n- Scala\n",
      "metadata": {}
    },
    {
      "cell_type": "markdown",
      "source": "## Data Science Libraries\n- Pandas\n- NumPy\n- Matplotlib\n- Scikit-learn\n- TensorFlow\n- ggplot2\n",
      "metadata": {}
    },
    {
      "cell_type": "markdown",
      "source": "## Data Science Tools\n| Tool          | Description                                  |\n|---------------|----------------------------------------------|\n| JupyterLab    | Interactive environment for notebooks        |\n| RStudio       | IDE for R programming                       |\n| Apache Spark  | Big data processing engine                  |\n| TensorFlow    | Machine learning framework                  |\n| Tableau       | Data visualization tool                     |\n",
      "metadata": {}
    },
    {
      "cell_type": "markdown",
      "source": "## Arithmetic Expression Examples\nExamples of basic arithmetic operations:\n- Addition\n- Multiplication\n- Division\n",
      "metadata": {}
    },
    {
      "cell_type": "code",
      "source": "result = (3 * 4) + 5\nresult\n",
      "metadata": {
        "trusted": true
      },
      "outputs": [
        {
          "execution_count": 6,
          "output_type": "execute_result",
          "data": {
            "text/plain": "17"
          },
          "metadata": {}
        }
      ],
      "execution_count": 6
    },
    {
      "cell_type": "code",
      "source": "minutes = 200\nhours = minutes / 60\nhours\n",
      "metadata": {
        "trusted": true
      },
      "outputs": [
        {
          "execution_count": 7,
          "output_type": "execute_result",
          "data": {
            "text/plain": "3.3333333333333335"
          },
          "metadata": {}
        }
      ],
      "execution_count": 7
    },
    {
      "cell_type": "markdown",
      "source": "## Objectives\n- Understand Data Science languages and libraries.\n- Learn about key tools in the Data Science ecosystem.\n- Practice basic arithmetic operations.\n",
      "metadata": {}
    },
    {
      "cell_type": "code",
      "source": "## Author\nName: sushma hanumanthu",
      "metadata": {
        "trusted": true
      },
      "outputs": [],
      "execution_count": null
    }
  ]
}